{
 "cells": [
  {
   "attachments": {},
   "cell_type": "markdown",
   "id": "1967c0e5",
   "metadata": {},
   "source": [
    "Importing Libraries"
   ]
  },
  {
   "cell_type": "code",
   "execution_count": 1,
   "id": "02716bc5",
   "metadata": {},
   "outputs": [],
   "source": [
    "import pandas as pd\n",
    "import sklearn\n",
    "import numpy as np\n",
    "import seaborn as sns\n",
    "import matplotlib.pyplot as plt"
   ]
  },
  {
   "attachments": {},
   "cell_type": "markdown",
   "id": "62224fd0",
   "metadata": {},
   "source": [
    "Reading the Dataframe"
   ]
  },
  {
   "cell_type": "code",
   "execution_count": 2,
   "id": "949d6e5b",
   "metadata": {},
   "outputs": [],
   "source": [
    "df=pd.read_csv('C:\\\\Users\\\\DEVANSH\\\\Desktop\\\\Projects\\\\healthcare-dataset-stroke-data.csv')"
   ]
  },
  {
   "cell_type": "code",
   "execution_count": 3,
   "id": "46dfaa43",
   "metadata": {},
   "outputs": [
    {
     "data": {
      "text/html": [
       "<div>\n",
       "<style scoped>\n",
       "    .dataframe tbody tr th:only-of-type {\n",
       "        vertical-align: middle;\n",
       "    }\n",
       "\n",
       "    .dataframe tbody tr th {\n",
       "        vertical-align: top;\n",
       "    }\n",
       "\n",
       "    .dataframe thead th {\n",
       "        text-align: right;\n",
       "    }\n",
       "</style>\n",
       "<table border=\"1\" class=\"dataframe\">\n",
       "  <thead>\n",
       "    <tr style=\"text-align: right;\">\n",
       "      <th></th>\n",
       "      <th>id</th>\n",
       "      <th>gender</th>\n",
       "      <th>age</th>\n",
       "      <th>hypertension</th>\n",
       "      <th>heart_disease</th>\n",
       "      <th>ever_married</th>\n",
       "      <th>work_type</th>\n",
       "      <th>Residence_type</th>\n",
       "      <th>avg_glucose_level</th>\n",
       "      <th>bmi</th>\n",
       "      <th>smoking_status</th>\n",
       "      <th>stroke</th>\n",
       "    </tr>\n",
       "  </thead>\n",
       "  <tbody>\n",
       "    <tr>\n",
       "      <th>0</th>\n",
       "      <td>9046</td>\n",
       "      <td>Male</td>\n",
       "      <td>67.0</td>\n",
       "      <td>0</td>\n",
       "      <td>1</td>\n",
       "      <td>Yes</td>\n",
       "      <td>Private</td>\n",
       "      <td>Urban</td>\n",
       "      <td>228.69</td>\n",
       "      <td>36.6</td>\n",
       "      <td>formerly smoked</td>\n",
       "      <td>1</td>\n",
       "    </tr>\n",
       "    <tr>\n",
       "      <th>1</th>\n",
       "      <td>51676</td>\n",
       "      <td>Female</td>\n",
       "      <td>61.0</td>\n",
       "      <td>0</td>\n",
       "      <td>0</td>\n",
       "      <td>Yes</td>\n",
       "      <td>Self-employed</td>\n",
       "      <td>Rural</td>\n",
       "      <td>202.21</td>\n",
       "      <td>NaN</td>\n",
       "      <td>never smoked</td>\n",
       "      <td>1</td>\n",
       "    </tr>\n",
       "    <tr>\n",
       "      <th>2</th>\n",
       "      <td>31112</td>\n",
       "      <td>Male</td>\n",
       "      <td>80.0</td>\n",
       "      <td>0</td>\n",
       "      <td>1</td>\n",
       "      <td>Yes</td>\n",
       "      <td>Private</td>\n",
       "      <td>Rural</td>\n",
       "      <td>105.92</td>\n",
       "      <td>32.5</td>\n",
       "      <td>never smoked</td>\n",
       "      <td>1</td>\n",
       "    </tr>\n",
       "    <tr>\n",
       "      <th>3</th>\n",
       "      <td>60182</td>\n",
       "      <td>Female</td>\n",
       "      <td>49.0</td>\n",
       "      <td>0</td>\n",
       "      <td>0</td>\n",
       "      <td>Yes</td>\n",
       "      <td>Private</td>\n",
       "      <td>Urban</td>\n",
       "      <td>171.23</td>\n",
       "      <td>34.4</td>\n",
       "      <td>smokes</td>\n",
       "      <td>1</td>\n",
       "    </tr>\n",
       "    <tr>\n",
       "      <th>4</th>\n",
       "      <td>1665</td>\n",
       "      <td>Female</td>\n",
       "      <td>79.0</td>\n",
       "      <td>1</td>\n",
       "      <td>0</td>\n",
       "      <td>Yes</td>\n",
       "      <td>Self-employed</td>\n",
       "      <td>Rural</td>\n",
       "      <td>174.12</td>\n",
       "      <td>24.0</td>\n",
       "      <td>never smoked</td>\n",
       "      <td>1</td>\n",
       "    </tr>\n",
       "  </tbody>\n",
       "</table>\n",
       "</div>"
      ],
      "text/plain": [
       "      id  gender   age  hypertension  heart_disease ever_married  \\\n",
       "0   9046    Male  67.0             0              1          Yes   \n",
       "1  51676  Female  61.0             0              0          Yes   \n",
       "2  31112    Male  80.0             0              1          Yes   \n",
       "3  60182  Female  49.0             0              0          Yes   \n",
       "4   1665  Female  79.0             1              0          Yes   \n",
       "\n",
       "       work_type Residence_type  avg_glucose_level   bmi   smoking_status  \\\n",
       "0        Private          Urban             228.69  36.6  formerly smoked   \n",
       "1  Self-employed          Rural             202.21   NaN     never smoked   \n",
       "2        Private          Rural             105.92  32.5     never smoked   \n",
       "3        Private          Urban             171.23  34.4           smokes   \n",
       "4  Self-employed          Rural             174.12  24.0     never smoked   \n",
       "\n",
       "   stroke  \n",
       "0       1  \n",
       "1       1  \n",
       "2       1  \n",
       "3       1  \n",
       "4       1  "
      ]
     },
     "execution_count": 3,
     "metadata": {},
     "output_type": "execute_result"
    }
   ],
   "source": [
    "df.head()"
   ]
  },
  {
   "cell_type": "code",
   "execution_count": 4,
   "id": "f7e37a76",
   "metadata": {},
   "outputs": [
    {
     "name": "stdout",
     "output_type": "stream",
     "text": [
      "<class 'pandas.core.frame.DataFrame'>\n",
      "RangeIndex: 5110 entries, 0 to 5109\n",
      "Data columns (total 12 columns):\n",
      " #   Column             Non-Null Count  Dtype  \n",
      "---  ------             --------------  -----  \n",
      " 0   id                 5110 non-null   int64  \n",
      " 1   gender             5110 non-null   object \n",
      " 2   age                5110 non-null   float64\n",
      " 3   hypertension       5110 non-null   int64  \n",
      " 4   heart_disease      5110 non-null   int64  \n",
      " 5   ever_married       5110 non-null   object \n",
      " 6   work_type          5110 non-null   object \n",
      " 7   Residence_type     5110 non-null   object \n",
      " 8   avg_glucose_level  5110 non-null   float64\n",
      " 9   bmi                4909 non-null   float64\n",
      " 10  smoking_status     5110 non-null   object \n",
      " 11  stroke             5110 non-null   int64  \n",
      "dtypes: float64(3), int64(4), object(5)\n",
      "memory usage: 479.2+ KB\n"
     ]
    }
   ],
   "source": [
    "df.info()"
   ]
  },
  {
   "cell_type": "code",
   "execution_count": 5,
   "id": "4d3683c8",
   "metadata": {},
   "outputs": [
    {
     "data": {
      "text/plain": [
       "id                     0\n",
       "gender                 0\n",
       "age                    0\n",
       "hypertension           0\n",
       "heart_disease          0\n",
       "ever_married           0\n",
       "work_type              0\n",
       "Residence_type         0\n",
       "avg_glucose_level      0\n",
       "bmi                  201\n",
       "smoking_status         0\n",
       "stroke                 0\n",
       "dtype: int64"
      ]
     },
     "execution_count": 5,
     "metadata": {},
     "output_type": "execute_result"
    }
   ],
   "source": [
    "df.isnull().sum()"
   ]
  },
  {
   "cell_type": "code",
   "execution_count": 6,
   "id": "976b7713",
   "metadata": {},
   "outputs": [],
   "source": [
    "X = df.drop('stroke', axis=1)\n",
    "y = df['stroke']"
   ]
  },
  {
   "attachments": {},
   "cell_type": "markdown",
   "id": "5117aa09",
   "metadata": {},
   "source": [
    "# Replacing Null Values with Mean"
   ]
  },
  {
   "cell_type": "code",
   "execution_count": 7,
   "id": "e18dd4fa",
   "metadata": {},
   "outputs": [
    {
     "data": {
      "text/html": [
       "<div>\n",
       "<style scoped>\n",
       "    .dataframe tbody tr th:only-of-type {\n",
       "        vertical-align: middle;\n",
       "    }\n",
       "\n",
       "    .dataframe tbody tr th {\n",
       "        vertical-align: top;\n",
       "    }\n",
       "\n",
       "    .dataframe thead th {\n",
       "        text-align: right;\n",
       "    }\n",
       "</style>\n",
       "<table border=\"1\" class=\"dataframe\">\n",
       "  <thead>\n",
       "    <tr style=\"text-align: right;\">\n",
       "      <th></th>\n",
       "      <th>id</th>\n",
       "      <th>gender</th>\n",
       "      <th>age</th>\n",
       "      <th>hypertension</th>\n",
       "      <th>heart_disease</th>\n",
       "      <th>ever_married</th>\n",
       "      <th>work_type</th>\n",
       "      <th>Residence_type</th>\n",
       "      <th>avg_glucose_level</th>\n",
       "      <th>bmi</th>\n",
       "      <th>smoking_status</th>\n",
       "      <th>stroke</th>\n",
       "    </tr>\n",
       "  </thead>\n",
       "  <tbody>\n",
       "    <tr>\n",
       "      <th>0</th>\n",
       "      <td>9046</td>\n",
       "      <td>Male</td>\n",
       "      <td>67.0</td>\n",
       "      <td>0</td>\n",
       "      <td>1</td>\n",
       "      <td>Yes</td>\n",
       "      <td>Private</td>\n",
       "      <td>Urban</td>\n",
       "      <td>228.69</td>\n",
       "      <td>36.600000</td>\n",
       "      <td>formerly smoked</td>\n",
       "      <td>1</td>\n",
       "    </tr>\n",
       "    <tr>\n",
       "      <th>1</th>\n",
       "      <td>51676</td>\n",
       "      <td>Female</td>\n",
       "      <td>61.0</td>\n",
       "      <td>0</td>\n",
       "      <td>0</td>\n",
       "      <td>Yes</td>\n",
       "      <td>Self-employed</td>\n",
       "      <td>Rural</td>\n",
       "      <td>202.21</td>\n",
       "      <td>28.893237</td>\n",
       "      <td>never smoked</td>\n",
       "      <td>1</td>\n",
       "    </tr>\n",
       "    <tr>\n",
       "      <th>2</th>\n",
       "      <td>31112</td>\n",
       "      <td>Male</td>\n",
       "      <td>80.0</td>\n",
       "      <td>0</td>\n",
       "      <td>1</td>\n",
       "      <td>Yes</td>\n",
       "      <td>Private</td>\n",
       "      <td>Rural</td>\n",
       "      <td>105.92</td>\n",
       "      <td>32.500000</td>\n",
       "      <td>never smoked</td>\n",
       "      <td>1</td>\n",
       "    </tr>\n",
       "    <tr>\n",
       "      <th>3</th>\n",
       "      <td>60182</td>\n",
       "      <td>Female</td>\n",
       "      <td>49.0</td>\n",
       "      <td>0</td>\n",
       "      <td>0</td>\n",
       "      <td>Yes</td>\n",
       "      <td>Private</td>\n",
       "      <td>Urban</td>\n",
       "      <td>171.23</td>\n",
       "      <td>34.400000</td>\n",
       "      <td>smokes</td>\n",
       "      <td>1</td>\n",
       "    </tr>\n",
       "    <tr>\n",
       "      <th>4</th>\n",
       "      <td>1665</td>\n",
       "      <td>Female</td>\n",
       "      <td>79.0</td>\n",
       "      <td>1</td>\n",
       "      <td>0</td>\n",
       "      <td>Yes</td>\n",
       "      <td>Self-employed</td>\n",
       "      <td>Rural</td>\n",
       "      <td>174.12</td>\n",
       "      <td>24.000000</td>\n",
       "      <td>never smoked</td>\n",
       "      <td>1</td>\n",
       "    </tr>\n",
       "    <tr>\n",
       "      <th>...</th>\n",
       "      <td>...</td>\n",
       "      <td>...</td>\n",
       "      <td>...</td>\n",
       "      <td>...</td>\n",
       "      <td>...</td>\n",
       "      <td>...</td>\n",
       "      <td>...</td>\n",
       "      <td>...</td>\n",
       "      <td>...</td>\n",
       "      <td>...</td>\n",
       "      <td>...</td>\n",
       "      <td>...</td>\n",
       "    </tr>\n",
       "    <tr>\n",
       "      <th>5105</th>\n",
       "      <td>18234</td>\n",
       "      <td>Female</td>\n",
       "      <td>80.0</td>\n",
       "      <td>1</td>\n",
       "      <td>0</td>\n",
       "      <td>Yes</td>\n",
       "      <td>Private</td>\n",
       "      <td>Urban</td>\n",
       "      <td>83.75</td>\n",
       "      <td>28.893237</td>\n",
       "      <td>never smoked</td>\n",
       "      <td>0</td>\n",
       "    </tr>\n",
       "    <tr>\n",
       "      <th>5106</th>\n",
       "      <td>44873</td>\n",
       "      <td>Female</td>\n",
       "      <td>81.0</td>\n",
       "      <td>0</td>\n",
       "      <td>0</td>\n",
       "      <td>Yes</td>\n",
       "      <td>Self-employed</td>\n",
       "      <td>Urban</td>\n",
       "      <td>125.20</td>\n",
       "      <td>40.000000</td>\n",
       "      <td>never smoked</td>\n",
       "      <td>0</td>\n",
       "    </tr>\n",
       "    <tr>\n",
       "      <th>5107</th>\n",
       "      <td>19723</td>\n",
       "      <td>Female</td>\n",
       "      <td>35.0</td>\n",
       "      <td>0</td>\n",
       "      <td>0</td>\n",
       "      <td>Yes</td>\n",
       "      <td>Self-employed</td>\n",
       "      <td>Rural</td>\n",
       "      <td>82.99</td>\n",
       "      <td>30.600000</td>\n",
       "      <td>never smoked</td>\n",
       "      <td>0</td>\n",
       "    </tr>\n",
       "    <tr>\n",
       "      <th>5108</th>\n",
       "      <td>37544</td>\n",
       "      <td>Male</td>\n",
       "      <td>51.0</td>\n",
       "      <td>0</td>\n",
       "      <td>0</td>\n",
       "      <td>Yes</td>\n",
       "      <td>Private</td>\n",
       "      <td>Rural</td>\n",
       "      <td>166.29</td>\n",
       "      <td>25.600000</td>\n",
       "      <td>formerly smoked</td>\n",
       "      <td>0</td>\n",
       "    </tr>\n",
       "    <tr>\n",
       "      <th>5109</th>\n",
       "      <td>44679</td>\n",
       "      <td>Female</td>\n",
       "      <td>44.0</td>\n",
       "      <td>0</td>\n",
       "      <td>0</td>\n",
       "      <td>Yes</td>\n",
       "      <td>Govt_job</td>\n",
       "      <td>Urban</td>\n",
       "      <td>85.28</td>\n",
       "      <td>26.200000</td>\n",
       "      <td>Unknown</td>\n",
       "      <td>0</td>\n",
       "    </tr>\n",
       "  </tbody>\n",
       "</table>\n",
       "<p>5110 rows × 12 columns</p>\n",
       "</div>"
      ],
      "text/plain": [
       "         id  gender   age  hypertension  heart_disease ever_married  \\\n",
       "0      9046    Male  67.0             0              1          Yes   \n",
       "1     51676  Female  61.0             0              0          Yes   \n",
       "2     31112    Male  80.0             0              1          Yes   \n",
       "3     60182  Female  49.0             0              0          Yes   \n",
       "4      1665  Female  79.0             1              0          Yes   \n",
       "...     ...     ...   ...           ...            ...          ...   \n",
       "5105  18234  Female  80.0             1              0          Yes   \n",
       "5106  44873  Female  81.0             0              0          Yes   \n",
       "5107  19723  Female  35.0             0              0          Yes   \n",
       "5108  37544    Male  51.0             0              0          Yes   \n",
       "5109  44679  Female  44.0             0              0          Yes   \n",
       "\n",
       "          work_type Residence_type  avg_glucose_level        bmi  \\\n",
       "0           Private          Urban             228.69  36.600000   \n",
       "1     Self-employed          Rural             202.21  28.893237   \n",
       "2           Private          Rural             105.92  32.500000   \n",
       "3           Private          Urban             171.23  34.400000   \n",
       "4     Self-employed          Rural             174.12  24.000000   \n",
       "...             ...            ...                ...        ...   \n",
       "5105        Private          Urban              83.75  28.893237   \n",
       "5106  Self-employed          Urban             125.20  40.000000   \n",
       "5107  Self-employed          Rural              82.99  30.600000   \n",
       "5108        Private          Rural             166.29  25.600000   \n",
       "5109       Govt_job          Urban              85.28  26.200000   \n",
       "\n",
       "       smoking_status  stroke  \n",
       "0     formerly smoked       1  \n",
       "1        never smoked       1  \n",
       "2        never smoked       1  \n",
       "3              smokes       1  \n",
       "4        never smoked       1  \n",
       "...               ...     ...  \n",
       "5105     never smoked       0  \n",
       "5106     never smoked       0  \n",
       "5107     never smoked       0  \n",
       "5108  formerly smoked       0  \n",
       "5109          Unknown       0  \n",
       "\n",
       "[5110 rows x 12 columns]"
      ]
     },
     "execution_count": 7,
     "metadata": {},
     "output_type": "execute_result"
    }
   ],
   "source": [
    "df.bmi.replace(to_replace=np.nan, value=df.bmi.mean(), inplace=True)\n",
    "df"
   ]
  },
  {
   "cell_type": "code",
   "execution_count": 8,
   "id": "7d219bbc",
   "metadata": {},
   "outputs": [
    {
     "data": {
      "text/html": [
       "<div>\n",
       "<style scoped>\n",
       "    .dataframe tbody tr th:only-of-type {\n",
       "        vertical-align: middle;\n",
       "    }\n",
       "\n",
       "    .dataframe tbody tr th {\n",
       "        vertical-align: top;\n",
       "    }\n",
       "\n",
       "    .dataframe thead th {\n",
       "        text-align: right;\n",
       "    }\n",
       "</style>\n",
       "<table border=\"1\" class=\"dataframe\">\n",
       "  <thead>\n",
       "    <tr style=\"text-align: right;\">\n",
       "      <th></th>\n",
       "      <th>id</th>\n",
       "      <th>age</th>\n",
       "      <th>hypertension</th>\n",
       "      <th>heart_disease</th>\n",
       "      <th>avg_glucose_level</th>\n",
       "      <th>bmi</th>\n",
       "      <th>stroke</th>\n",
       "    </tr>\n",
       "  </thead>\n",
       "  <tbody>\n",
       "    <tr>\n",
       "      <th>count</th>\n",
       "      <td>5110.000000</td>\n",
       "      <td>5110.000000</td>\n",
       "      <td>5110.000000</td>\n",
       "      <td>5110.000000</td>\n",
       "      <td>5110.000000</td>\n",
       "      <td>5110.000000</td>\n",
       "      <td>5110.000000</td>\n",
       "    </tr>\n",
       "    <tr>\n",
       "      <th>mean</th>\n",
       "      <td>36517.829354</td>\n",
       "      <td>43.226614</td>\n",
       "      <td>0.097456</td>\n",
       "      <td>0.054012</td>\n",
       "      <td>106.147677</td>\n",
       "      <td>28.893237</td>\n",
       "      <td>0.048728</td>\n",
       "    </tr>\n",
       "    <tr>\n",
       "      <th>std</th>\n",
       "      <td>21161.721625</td>\n",
       "      <td>22.612647</td>\n",
       "      <td>0.296607</td>\n",
       "      <td>0.226063</td>\n",
       "      <td>45.283560</td>\n",
       "      <td>7.698018</td>\n",
       "      <td>0.215320</td>\n",
       "    </tr>\n",
       "    <tr>\n",
       "      <th>min</th>\n",
       "      <td>67.000000</td>\n",
       "      <td>0.080000</td>\n",
       "      <td>0.000000</td>\n",
       "      <td>0.000000</td>\n",
       "      <td>55.120000</td>\n",
       "      <td>10.300000</td>\n",
       "      <td>0.000000</td>\n",
       "    </tr>\n",
       "    <tr>\n",
       "      <th>25%</th>\n",
       "      <td>17741.250000</td>\n",
       "      <td>25.000000</td>\n",
       "      <td>0.000000</td>\n",
       "      <td>0.000000</td>\n",
       "      <td>77.245000</td>\n",
       "      <td>23.800000</td>\n",
       "      <td>0.000000</td>\n",
       "    </tr>\n",
       "    <tr>\n",
       "      <th>50%</th>\n",
       "      <td>36932.000000</td>\n",
       "      <td>45.000000</td>\n",
       "      <td>0.000000</td>\n",
       "      <td>0.000000</td>\n",
       "      <td>91.885000</td>\n",
       "      <td>28.400000</td>\n",
       "      <td>0.000000</td>\n",
       "    </tr>\n",
       "    <tr>\n",
       "      <th>75%</th>\n",
       "      <td>54682.000000</td>\n",
       "      <td>61.000000</td>\n",
       "      <td>0.000000</td>\n",
       "      <td>0.000000</td>\n",
       "      <td>114.090000</td>\n",
       "      <td>32.800000</td>\n",
       "      <td>0.000000</td>\n",
       "    </tr>\n",
       "    <tr>\n",
       "      <th>max</th>\n",
       "      <td>72940.000000</td>\n",
       "      <td>82.000000</td>\n",
       "      <td>1.000000</td>\n",
       "      <td>1.000000</td>\n",
       "      <td>271.740000</td>\n",
       "      <td>97.600000</td>\n",
       "      <td>1.000000</td>\n",
       "    </tr>\n",
       "  </tbody>\n",
       "</table>\n",
       "</div>"
      ],
      "text/plain": [
       "                 id          age  hypertension  heart_disease  \\\n",
       "count   5110.000000  5110.000000   5110.000000    5110.000000   \n",
       "mean   36517.829354    43.226614      0.097456       0.054012   \n",
       "std    21161.721625    22.612647      0.296607       0.226063   \n",
       "min       67.000000     0.080000      0.000000       0.000000   \n",
       "25%    17741.250000    25.000000      0.000000       0.000000   \n",
       "50%    36932.000000    45.000000      0.000000       0.000000   \n",
       "75%    54682.000000    61.000000      0.000000       0.000000   \n",
       "max    72940.000000    82.000000      1.000000       1.000000   \n",
       "\n",
       "       avg_glucose_level          bmi       stroke  \n",
       "count        5110.000000  5110.000000  5110.000000  \n",
       "mean          106.147677    28.893237     0.048728  \n",
       "std            45.283560     7.698018     0.215320  \n",
       "min            55.120000    10.300000     0.000000  \n",
       "25%            77.245000    23.800000     0.000000  \n",
       "50%            91.885000    28.400000     0.000000  \n",
       "75%           114.090000    32.800000     0.000000  \n",
       "max           271.740000    97.600000     1.000000  "
      ]
     },
     "execution_count": 8,
     "metadata": {},
     "output_type": "execute_result"
    }
   ],
   "source": [
    "df.describe()"
   ]
  },
  {
   "cell_type": "code",
   "execution_count": 9,
   "metadata": {},
   "outputs": [
    {
     "data": {
      "text/plain": [
       "<AxesSubplot:>"
      ]
     },
     "execution_count": 9,
     "metadata": {},
     "output_type": "execute_result"
    },
    {
     "data": {
      "image/png": "[encoded data removed]",
      "text/plain": [
       "<Figure size 432x288 with 2 Axes>"
      ]
     },
     "metadata": {
      "needs_background": "light"
     },
     "output_type": "display_data"
    }
   ],
   "source": [
    "c=df.corr()\n",
    "sns.heatmap(c,cmap='RdBu',annot=True)"
   ]
  },
  {
   "attachments": {},
   "cell_type": "markdown",
   "id": "c4b3dc97",
   "metadata": {},
   "source": [
    "we find that stroke is maximum correlated with age and minimum with bmi"
   ]
  },
  {
   "attachments": {},
   "cell_type": "markdown",
   "id": "34cedee0",
   "metadata": {},
   "source": [
    "# Data Visualization"
   ]
  },
  {
   "cell_type": "code",
   "execution_count": 43,
   "id": "41d60a7d",
   "metadata": {},
   "outputs": [
    {
     "name": "stdout",
     "output_type": "stream",
     "text": [
      "Female    2994\n",
      "Male      2115\n",
      "Other        1\n",
      "Name: gender, dtype: int64\n"
     ]
    },
    {
     "data": {
      "image/png": "[encoded data removed]",
      "text/plain": [
       "<Figure size 432x288 with 1 Axes>"
      ]
     },
     "metadata": {},
     "output_type": "display_data"
    }
   ],
   "source": [
    "print(df.gender.value_counts())\n",
    "sns.set_theme(style=\"darkgrid\")\n",
    "ax = sns.countplot(data=df, x=\"gender\")\n",
    "plt.show()"
   ]
  },
  {
   "cell_type": "code",
   "execution_count": 44,
   "id": "077f0fc1",
   "metadata": {},
   "outputs": [
    {
     "name": "stdout",
     "output_type": "stream",
     "text": [
      "Yes    3353\n",
      "No     1757\n",
      "Name: ever_married, dtype: int64\n"
     ]
    },
    {
     "data": {
      "image/png": "[encoded data removed]",
      "text/plain": [
       "<Figure size 432x288 with 1 Axes>"
      ]
     },
     "metadata": {},
     "output_type": "display_data"
    }
   ],
   "source": [
    "print(df.ever_married.value_counts())\n",
    "sns.set_theme(style=\"darkgrid\")\n",
    "ax = sns.countplot(data=df, x=\"ever_married\")\n",
    "plt.show()"
   ]
  },
  {
   "cell_type": "code",
   "execution_count": 45,
   "id": "088cedca",
   "metadata": {},
   "outputs": [
    {
     "name": "stdout",
     "output_type": "stream",
     "text": [
      "Private          2925\n",
      "Self-employed     819\n",
      "children          687\n",
      "Govt_job          657\n",
      "Never_worked       22\n",
      "Name: work_type, dtype: int64\n"
     ]
    },
    {
     "data": {
      "image/png": "[encoded data removed]",
      "text/plain": [
       "<Figure size 432x288 with 1 Axes>"
      ]
     },
     "metadata": {},
     "output_type": "display_data"
    }
   ],
   "source": [
    "print(df.work_type.value_counts())\n",
    "sns.set_theme(style=\"darkgrid\")\n",
    "ax = sns.countplot(data=df, x=\"work_type\")\n",
    "plt.show()"
   ]
  },
  {
   "cell_type": "code",
   "execution_count": 46,
   "id": "58495da7",
   "metadata": {},
   "outputs": [
    {
     "name": "stdout",
     "output_type": "stream",
     "text": [
      "Urban    2596\n",
      "Rural    2514\n",
      "Name: Residence_type, dtype: int64\n"
     ]
    },
    {
     "data": {
      "image/png": "[encoded data removed]",
      "text/plain": [
       "<Figure size 432x288 with 1 Axes>"
      ]
     },
     "metadata": {},
     "output_type": "display_data"
    }
   ],
   "source": [
    "print(df.Residence_type.value_counts())\n",
    "sns.set_theme(style=\"darkgrid\")\n",
    "ax = sns.countplot(data=df, x=\"Residence_type\")\n",
    "plt.show()"
   ]
  },
  {
   "cell_type": "code",
   "execution_count": 47,
   "id": "72425868",
   "metadata": {},
   "outputs": [
    {
     "name": "stdout",
     "output_type": "stream",
     "text": [
      "never smoked       1892\n",
      "Unknown            1544\n",
      "formerly smoked     885\n",
      "smokes              789\n",
      "Name: smoking_status, dtype: int64\n"
     ]
    },
    {
     "data": {
      "image/png": "[encoded data removed]",
      "text/plain": [
       "<Figure size 432x288 with 1 Axes>"
      ]
     },
     "metadata": {},
     "output_type": "display_data"
    }
   ],
   "source": [
    "print(df.smoking_status.value_counts())\n",
    "sns.set_theme(style=\"darkgrid\")\n",
    "ax = sns.countplot(data=df, x=\"smoking_status\")\n",
    "plt.show()"
   ]
  },
  {
   "cell_type": "code",
   "execution_count": 48,
   "id": "366bb118",
   "metadata": {},
   "outputs": [
    {
     "name": "stdout",
     "output_type": "stream",
     "text": [
      "0    4861\n",
      "1     249\n",
      "Name: stroke, dtype: int64\n"
     ]
    },
    {
     "data": {
      "image/png": "[encoded data removed]",
      "text/plain": [
       "<Figure size 432x288 with 1 Axes>"
      ]
     },
     "metadata": {},
     "output_type": "display_data"
    }
   ],
   "source": [
    "print(df.stroke.value_counts())\n",
    "sns.set_theme(style=\"darkgrid\")\n",
    "ax = sns.countplot(data=df, x=\"stroke\")\n",
    "plt.show()"
   ]
  },
  {
   "cell_type": "code",
   "execution_count": 49,
   "metadata": {},
   "outputs": [
    {
     "data": {
      "text/plain": [
       "<matplotlib.legend.Legend at 0x1f91124f370>"
      ]
     },
     "execution_count": 49,
     "metadata": {},
     "output_type": "execute_result"
    },
    {
     "data": {
      "image/png": "[encoded data removed]",
      "text/plain": [
       "<Figure size 504x504 with 1 Axes>"
      ]
     },
     "metadata": {},
     "output_type": "display_data"
    }
   ],
   "source": [
    "fig = plt.figure(figsize=(7,7))\n",
    "sns.distplot(df.avg_glucose_level, color=\"green\", label=\"avg_glucose_level\", kde= True)\n",
    "plt.legend()"
   ]
  },
  {
   "attachments": {},
   "cell_type": "markdown",
   "id": "e422ae16",
   "metadata": {},
   "source": [
    "# pairwise plot"
   ]
  },
  {
   "attachments": {},
   "cell_type": "markdown",
   "id": "c0f1ea63",
   "metadata": {},
   "source": [
    "# Data preprocessing"
   ]
  },
  {
   "cell_type": "code",
   "execution_count": 28,
   "id": "5bed30ca",
   "metadata": {},
   "outputs": [],
   "source": [
    "X= df[df['gender'] != 'other']\n",
    "#dropping gender=other as only 1 entry"
   ]
  },
  {
   "cell_type": "code",
   "execution_count": 29,
   "id": "a3175d9c",
   "metadata": {},
   "outputs": [
    {
     "name": "stdout",
     "output_type": "stream",
     "text": [
      "(5110, 11) (5110,)\n"
     ]
    }
   ],
   "source": [
    "y = X['stroke']\n",
    "X = X.drop('stroke', axis=1)\n",
    "print(X.shape,y.shape)"
   ]
  },
  {
   "attachments": {},
   "cell_type": "markdown",
   "id": "b2387bec",
   "metadata": {},
   "source": [
    "# Label Encoding"
   ]
  },
  {
   "cell_type": "code",
   "execution_count": 31,
   "id": "2e7ab8a2",
   "metadata": {},
   "outputs": [],
   "source": [
    "from sklearn.preprocessing import LabelEncoder\n",
    "l = LabelEncoder()"
   ]
  },
  {
   "cell_type": "code",
   "execution_count": 32,
   "id": "f72d6d5f",
   "metadata": {},
   "outputs": [],
   "source": [
    "X['gender'] = l.fit_transform(X['gender'])\n",
    "X['ever_married'] = l.fit_transform(X['ever_married'])\n",
    "X['work_type'] = l.fit_transform(X['work_type'])\n",
    "X['Residence_type'] = l.fit_transform(X['Residence_type'])\n",
    "X['smoking_status'] = l.fit_transform(X['smoking_status'])"
   ]
  },
  {
   "attachments": {},
   "cell_type": "markdown",
   "id": "251bdb56",
   "metadata": {},
   "source": [
    "# One Hot Encoding"
   ]
  },
  {
   "cell_type": "code",
   "execution_count": 55,
   "id": "60d5f0cd",
   "metadata": {},
   "outputs": [],
   "source": [
    "from sklearn.preprocessing import OneHotEncoder\n",
    "o = OneHotEncoder()"
   ]
  },
  {
   "attachments": {},
   "cell_type": "markdown",
   "id": "555d3b80",
   "metadata": {},
   "source": [
    "# Feature Scaling"
   ]
  },
  {
   "cell_type": "code",
   "execution_count": null,
   "id": "f59289a8",
   "metadata": {},
   "outputs": [],
   "source": [
    "from sklearn.preprocessing import StandardScaler\n",
    "s = StandardScaler()\n",
    "X = s.fit_transform(X)"
   ]
  },
  {
   "cell_type": "code",
   "execution_count": null,
   "id": "79196d5d",
   "metadata": {},
   "outputs": [],
   "source": [
    "from sklearn.model_selection import train_test_split\n",
    "from sklearn.linear_model import LogisticRegression\n",
    "from sklearn import metrics"
   ]
  },
  {
   "attachments": {},
   "cell_type": "markdown",
   "id": "04de1b2c",
   "metadata": {},
   "source": [
    "# Evaluating performance of all the models"
   ]
  },
  {
   "cell_type": "code",
   "execution_count": 40,
   "id": "a7de6f12",
   "metadata": {},
   "outputs": [
    {
     "name": "stderr",
     "output_type": "stream",
     "text": [
      "100%|██████████| 29/29 [00:08<00:00,  3.39it/s]\n"
     ]
    },
    {
     "data": {
      "text/html": [
       "<div>\n",
       "<style scoped>\n",
       "    .dataframe tbody tr th:only-of-type {\n",
       "        vertical-align: middle;\n",
       "    }\n",
       "\n",
       "    .dataframe tbody tr th {\n",
       "        vertical-align: top;\n",
       "    }\n",
       "\n",
       "    .dataframe thead th {\n",
       "        text-align: right;\n",
       "    }\n",
       "</style>\n",
       "<table border=\"1\" class=\"dataframe\">\n",
       "  <thead>\n",
       "    <tr style=\"text-align: right;\">\n",
       "      <th></th>\n",
       "      <th>Accuracy</th>\n",
       "      <th>Balanced Accuracy</th>\n",
       "      <th>ROC AUC</th>\n",
       "      <th>F1 Score</th>\n",
       "      <th>Time Taken</th>\n",
       "    </tr>\n",
       "    <tr>\n",
       "      <th>Model</th>\n",
       "      <th></th>\n",
       "      <th></th>\n",
       "      <th></th>\n",
       "      <th></th>\n",
       "      <th></th>\n",
       "    </tr>\n",
       "  </thead>\n",
       "  <tbody>\n",
       "    <tr>\n",
       "      <th>NearestCentroid</th>\n",
       "      <td>0.73</td>\n",
       "      <td>0.76</td>\n",
       "      <td>0.76</td>\n",
       "      <td>0.81</td>\n",
       "      <td>0.02</td>\n",
       "    </tr>\n",
       "    <tr>\n",
       "      <th>GaussianNB</th>\n",
       "      <td>0.87</td>\n",
       "      <td>0.72</td>\n",
       "      <td>0.72</td>\n",
       "      <td>0.90</td>\n",
       "      <td>0.02</td>\n",
       "    </tr>\n",
       "    <tr>\n",
       "      <th>QuadraticDiscriminantAnalysis</th>\n",
       "      <td>0.88</td>\n",
       "      <td>0.71</td>\n",
       "      <td>0.71</td>\n",
       "      <td>0.91</td>\n",
       "      <td>0.03</td>\n",
       "    </tr>\n",
       "    <tr>\n",
       "      <th>PassiveAggressiveClassifier</th>\n",
       "      <td>0.85</td>\n",
       "      <td>0.69</td>\n",
       "      <td>0.69</td>\n",
       "      <td>0.89</td>\n",
       "      <td>0.03</td>\n",
       "    </tr>\n",
       "    <tr>\n",
       "      <th>LabelPropagation</th>\n",
       "      <td>0.91</td>\n",
       "      <td>0.56</td>\n",
       "      <td>0.56</td>\n",
       "      <td>0.92</td>\n",
       "      <td>1.17</td>\n",
       "    </tr>\n",
       "    <tr>\n",
       "      <th>LabelSpreading</th>\n",
       "      <td>0.91</td>\n",
       "      <td>0.56</td>\n",
       "      <td>0.56</td>\n",
       "      <td>0.92</td>\n",
       "      <td>1.85</td>\n",
       "    </tr>\n",
       "    <tr>\n",
       "      <th>DecisionTreeClassifier</th>\n",
       "      <td>0.91</td>\n",
       "      <td>0.54</td>\n",
       "      <td>0.54</td>\n",
       "      <td>0.91</td>\n",
       "      <td>0.04</td>\n",
       "    </tr>\n",
       "    <tr>\n",
       "      <th>LinearDiscriminantAnalysis</th>\n",
       "      <td>0.96</td>\n",
       "      <td>0.53</td>\n",
       "      <td>0.53</td>\n",
       "      <td>0.94</td>\n",
       "      <td>0.09</td>\n",
       "    </tr>\n",
       "    <tr>\n",
       "      <th>ExtraTreeClassifier</th>\n",
       "      <td>0.90</td>\n",
       "      <td>0.53</td>\n",
       "      <td>0.53</td>\n",
       "      <td>0.91</td>\n",
       "      <td>0.02</td>\n",
       "    </tr>\n",
       "    <tr>\n",
       "      <th>LGBMClassifier</th>\n",
       "      <td>0.95</td>\n",
       "      <td>0.52</td>\n",
       "      <td>0.52</td>\n",
       "      <td>0.93</td>\n",
       "      <td>0.30</td>\n",
       "    </tr>\n",
       "    <tr>\n",
       "      <th>XGBClassifier</th>\n",
       "      <td>0.95</td>\n",
       "      <td>0.52</td>\n",
       "      <td>0.52</td>\n",
       "      <td>0.93</td>\n",
       "      <td>0.55</td>\n",
       "    </tr>\n",
       "    <tr>\n",
       "      <th>KNeighborsClassifier</th>\n",
       "      <td>0.95</td>\n",
       "      <td>0.52</td>\n",
       "      <td>0.52</td>\n",
       "      <td>0.93</td>\n",
       "      <td>0.17</td>\n",
       "    </tr>\n",
       "    <tr>\n",
       "      <th>BernoulliNB</th>\n",
       "      <td>0.95</td>\n",
       "      <td>0.51</td>\n",
       "      <td>0.51</td>\n",
       "      <td>0.93</td>\n",
       "      <td>0.06</td>\n",
       "    </tr>\n",
       "    <tr>\n",
       "      <th>BaggingClassifier</th>\n",
       "      <td>0.95</td>\n",
       "      <td>0.51</td>\n",
       "      <td>0.51</td>\n",
       "      <td>0.93</td>\n",
       "      <td>0.37</td>\n",
       "    </tr>\n",
       "    <tr>\n",
       "      <th>ExtraTreesClassifier</th>\n",
       "      <td>0.95</td>\n",
       "      <td>0.51</td>\n",
       "      <td>0.51</td>\n",
       "      <td>0.93</td>\n",
       "      <td>0.45</td>\n",
       "    </tr>\n",
       "    <tr>\n",
       "      <th>AdaBoostClassifier</th>\n",
       "      <td>0.95</td>\n",
       "      <td>0.51</td>\n",
       "      <td>0.51</td>\n",
       "      <td>0.93</td>\n",
       "      <td>0.57</td>\n",
       "    </tr>\n",
       "    <tr>\n",
       "      <th>LogisticRegression</th>\n",
       "      <td>0.95</td>\n",
       "      <td>0.50</td>\n",
       "      <td>0.50</td>\n",
       "      <td>0.93</td>\n",
       "      <td>0.05</td>\n",
       "    </tr>\n",
       "    <tr>\n",
       "      <th>DummyClassifier</th>\n",
       "      <td>0.95</td>\n",
       "      <td>0.50</td>\n",
       "      <td>0.50</td>\n",
       "      <td>0.93</td>\n",
       "      <td>0.02</td>\n",
       "    </tr>\n",
       "    <tr>\n",
       "      <th>RandomForestClassifier</th>\n",
       "      <td>0.95</td>\n",
       "      <td>0.50</td>\n",
       "      <td>0.50</td>\n",
       "      <td>0.93</td>\n",
       "      <td>0.75</td>\n",
       "    </tr>\n",
       "    <tr>\n",
       "      <th>RidgeClassifier</th>\n",
       "      <td>0.95</td>\n",
       "      <td>0.50</td>\n",
       "      <td>0.50</td>\n",
       "      <td>0.93</td>\n",
       "      <td>0.03</td>\n",
       "    </tr>\n",
       "    <tr>\n",
       "      <th>RidgeClassifierCV</th>\n",
       "      <td>0.95</td>\n",
       "      <td>0.50</td>\n",
       "      <td>0.50</td>\n",
       "      <td>0.93</td>\n",
       "      <td>0.05</td>\n",
       "    </tr>\n",
       "    <tr>\n",
       "      <th>SGDClassifier</th>\n",
       "      <td>0.95</td>\n",
       "      <td>0.50</td>\n",
       "      <td>0.50</td>\n",
       "      <td>0.93</td>\n",
       "      <td>0.05</td>\n",
       "    </tr>\n",
       "    <tr>\n",
       "      <th>SVC</th>\n",
       "      <td>0.95</td>\n",
       "      <td>0.50</td>\n",
       "      <td>0.50</td>\n",
       "      <td>0.93</td>\n",
       "      <td>0.58</td>\n",
       "    </tr>\n",
       "    <tr>\n",
       "      <th>CalibratedClassifierCV</th>\n",
       "      <td>0.95</td>\n",
       "      <td>0.50</td>\n",
       "      <td>0.50</td>\n",
       "      <td>0.93</td>\n",
       "      <td>0.88</td>\n",
       "    </tr>\n",
       "    <tr>\n",
       "      <th>LinearSVC</th>\n",
       "      <td>0.95</td>\n",
       "      <td>0.50</td>\n",
       "      <td>0.50</td>\n",
       "      <td>0.93</td>\n",
       "      <td>0.32</td>\n",
       "    </tr>\n",
       "    <tr>\n",
       "      <th>Perceptron</th>\n",
       "      <td>0.95</td>\n",
       "      <td>0.50</td>\n",
       "      <td>0.50</td>\n",
       "      <td>0.93</td>\n",
       "      <td>0.03</td>\n",
       "    </tr>\n",
       "  </tbody>\n",
       "</table>\n",
       "</div>"
      ],
      "text/plain": [
       "                               Accuracy  Balanced Accuracy  ROC AUC  F1 Score  \\\n",
       "Model                                                                           \n",
       "NearestCentroid                    0.73               0.76     0.76      0.81   \n",
       "GaussianNB                         0.87               0.72     0.72      0.90   \n",
       "QuadraticDiscriminantAnalysis      0.88               0.71     0.71      0.91   \n",
       "PassiveAggressiveClassifier        0.85               0.69     0.69      0.89   \n",
       "LabelPropagation                   0.91               0.56     0.56      0.92   \n",
       "LabelSpreading                     0.91               0.56     0.56      0.92   \n",
       "DecisionTreeClassifier             0.91               0.54     0.54      0.91   \n",
       "LinearDiscriminantAnalysis         0.96               0.53     0.53      0.94   \n",
       "ExtraTreeClassifier                0.90               0.53     0.53      0.91   \n",
       "LGBMClassifier                     0.95               0.52     0.52      0.93   \n",
       "XGBClassifier                      0.95               0.52     0.52      0.93   \n",
       "KNeighborsClassifier               0.95               0.52     0.52      0.93   \n",
       "BernoulliNB                        0.95               0.51     0.51      0.93   \n",
       "BaggingClassifier                  0.95               0.51     0.51      0.93   \n",
       "ExtraTreesClassifier               0.95               0.51     0.51      0.93   \n",
       "AdaBoostClassifier                 0.95               0.51     0.51      0.93   \n",
       "LogisticRegression                 0.95               0.50     0.50      0.93   \n",
       "DummyClassifier                    0.95               0.50     0.50      0.93   \n",
       "RandomForestClassifier             0.95               0.50     0.50      0.93   \n",
       "RidgeClassifier                    0.95               0.50     0.50      0.93   \n",
       "RidgeClassifierCV                  0.95               0.50     0.50      0.93   \n",
       "SGDClassifier                      0.95               0.50     0.50      0.93   \n",
       "SVC                                0.95               0.50     0.50      0.93   \n",
       "CalibratedClassifierCV             0.95               0.50     0.50      0.93   \n",
       "LinearSVC                          0.95               0.50     0.50      0.93   \n",
       "Perceptron                         0.95               0.50     0.50      0.93   \n",
       "\n",
       "                               Time Taken  \n",
       "Model                                      \n",
       "NearestCentroid                      0.02  \n",
       "GaussianNB                           0.02  \n",
       "QuadraticDiscriminantAnalysis        0.03  \n",
       "PassiveAggressiveClassifier          0.03  \n",
       "LabelPropagation                     1.17  \n",
       "LabelSpreading                       1.85  \n",
       "DecisionTreeClassifier               0.04  \n",
       "LinearDiscriminantAnalysis           0.09  \n",
       "ExtraTreeClassifier                  0.02  \n",
       "LGBMClassifier                       0.30  \n",
       "XGBClassifier                        0.55  \n",
       "KNeighborsClassifier                 0.17  \n",
       "BernoulliNB                          0.06  \n",
       "BaggingClassifier                    0.37  \n",
       "ExtraTreesClassifier                 0.45  \n",
       "AdaBoostClassifier                   0.57  \n",
       "LogisticRegression                   0.05  \n",
       "DummyClassifier                      0.02  \n",
       "RandomForestClassifier               0.75  \n",
       "RidgeClassifier                      0.03  \n",
       "RidgeClassifierCV                    0.05  \n",
       "SGDClassifier                        0.05  \n",
       "SVC                                  0.58  \n",
       "CalibratedClassifierCV               0.88  \n",
       "LinearSVC                            0.32  \n",
       "Perceptron                           0.03  "
      ]
     },
     "execution_count": 40,
     "metadata": {},
     "output_type": "execute_result"
    }
   ],
   "source": [
    "from sklearn.linear_model import Perceptron, SGDClassifier, PassiveAggressiveClassifier\n",
    "from sklearn.metrics import accuracy_score\n",
    "# Use LazyPredictor to find the best model\n",
    "from lazypredict.Supervised import LazyClassifier\n",
    "X_train, X_test, y_train, y_test = train_test_split(X,y, test_size=0.25)\n",
    "\n",
    "clf = LazyClassifier(verbose=0, ignore_warnings=True, custom_metric=None)\n",
    "models, predictions = clf.fit(X_train, X_test, y_train, y_test)\n",
    "# models\n",
    "predictions"
   ]
  },
  {
   "attachments": {},
   "cell_type": "markdown",
   "id": "c4a4750d",
   "metadata": {},
   "source": [
    "# Using Gaussian Naive Bayes"
   ]
  },
  {
   "cell_type": "code",
   "execution_count": 41,
   "id": "d7195db1",
   "metadata": {},
   "outputs": [
    {
     "name": "stdout",
     "output_type": "stream",
     "text": [
      "[[916  53]\n",
      " [ 46   7]]\n"
     ]
    }
   ],
   "source": [
    "from sklearn.naive_bayes import GaussianNB\n",
    "g = GaussianNB()\n",
    "Xtrain,Xtest,Ytrain,Ytest = train_test_split(X,y,test_size=0.2)\n",
    "g.fit(Xtrain,Ytrain)\n",
    "Ypred=g.predict(Xtest)\n",
    "print(metrics.confusion_matrix(Ytest,Ypred))"
   ]
  },
  {
   "attachments": {},
   "cell_type": "markdown",
   "id": "3bcf0470",
   "metadata": {},
   "source": [
    "# Using Decision Tree"
   ]
  },
  {
   "cell_type": "code",
   "execution_count": 48,
   "metadata": {},
   "outputs": [
    {
     "name": "stdout",
     "output_type": "stream",
     "text": [
      "[[917  62]\n",
      " [ 39   4]]\n"
     ]
    }
   ],
   "source": [
    "from sklearn.tree import DecisionTreeClassifier\n",
    "t = DecisionTreeClassifier()\n",
    "Xtrain,Xtest,Ytrain,Ytest = train_test_split(X,y,test_size=0.2)\n",
    "t.fit(Xtrain,Ytrain)\n",
    "Ypred=t.predict(Xtest)\n",
    "print(metrics.confusion_matrix(Ytest,Ypred))"
   ]
  },
  {
   "attachments": {},
   "cell_type": "markdown",
   "id": "fcecc679",
   "metadata": {},
   "source": [
    "# Using RandomForest"
   ]
  },
  {
   "cell_type": "code",
   "execution_count": 49,
   "id": "f3176912",
   "metadata": {},
   "outputs": [
    {
     "name": "stdout",
     "output_type": "stream",
     "text": [
      "[[485   2]\n",
      " [ 24   0]]\n"
     ]
    }
   ],
   "source": [
    "from sklearn.ensemble import RandomForestClassifier\n",
    "r = RandomForestClassifier()\n",
    "Xtrain,Xtest,Ytrain,Ytest = train_test_split(X,y,test_size=0.1)\n",
    "r.fit(Xtrain,Ytrain)\n",
    "Ypred=r.predict(Xtest)\n",
    "print(metrics.confusion_matrix(Ytest,Ypred))"
   ]
  },
  {
   "attachments": {},
   "cell_type": "markdown",
   "id": "b5de3baa",
   "metadata": {},
   "source": [
    "# Linear SVC"
   ]
  },
  {
   "cell_type": "code",
   "execution_count": null,
   "id": "f73eeaf1",
   "metadata": {},
   "outputs": [],
   "source": [
    "from sklearn.svm import LinearSVC\n",
    "model = LinearSVC()\n",
    "model.fit(X_train,y_train)\n",
    "y_pred= model.predict(X_test)"
   ]
  },
  {
   "cell_type": "code",
   "execution_count": null,
   "metadata": {},
   "outputs": [
    {
     "name": "stdout",
     "output_type": "stream",
     "text": [
      "0.9428794992175273\n",
      "              precision    recall  f1-score   support\n",
      "\n",
      "           0       0.94      1.00      0.97      1205\n",
      "           1       0.00      0.00      0.00        73\n",
      "\n",
      "    accuracy                           0.94      1278\n",
      "   macro avg       0.47      0.50      0.49      1278\n",
      "weighted avg       0.89      0.94      0.92      1278\n",
      "\n",
      "[[1205    0]\n",
      " [  73    0]]\n"
     ]
    }
   ],
   "source": [
    "print(metrics.accuracy_score(y_test, y_pred))\n",
    "print(metrics.classification_report(y_test, y_pred))\n",
    "print(metrics.confusion_matrix(y_test,y_pred))"
   ]
  },
  {
   "cell_type": "code",
   "execution_count": 58,
   "id": "43d3fbde",
   "metadata": {},
   "outputs": [
    {
     "name": "stdout",
     "output_type": "stream",
     "text": [
      "0.9569471624266145\n",
      "              precision    recall  f1-score   support\n",
      "\n",
      "           0       0.96      1.00      0.98       980\n",
      "           1       0.00      0.00      0.00        42\n",
      "\n",
      "    accuracy                           0.96      1022\n",
      "   macro avg       0.48      0.50      0.49      1022\n",
      "weighted avg       0.92      0.96      0.94      1022\n",
      "\n",
      "[[978   2]\n",
      " [ 42   0]]\n"
     ]
    }
   ],
   "source": [
    "X_train, X_test, y_train, y_test = train_test_split(X,y, test_size=0.2)\n",
    "model = LogisticRegression()\n",
    "model.fit(X_train, y_train)\n",
    "y_pred = model.predict(X_test)\n",
    "\n",
    "print(metrics.accuracy_score(y_test, y_pred))\n",
    "print(metrics.classification_report(y_test, y_pred))\n",
    "print(metrics.confusion_matrix(y_test,y_pred))"
   ]
  },
  {
   "attachments": {},
   "cell_type": "markdown",
   "id": "0a0f9385",
   "metadata": {},
   "source": [
    "# KNN"
   ]
  },
  {
   "cell_type": "code",
   "execution_count": 66,
   "id": "6d1dc7b2",
   "metadata": {},
   "outputs": [
    {
     "name": "stdout",
     "output_type": "stream",
     "text": [
      "0.9530332681017613\n",
      "              precision    recall  f1-score   support\n",
      "\n",
      "           0       0.95      1.00      0.98       487\n",
      "           1       0.50      0.04      0.08        24\n",
      "\n",
      "    accuracy                           0.95       511\n",
      "   macro avg       0.73      0.52      0.53       511\n",
      "weighted avg       0.93      0.95      0.93       511\n",
      "\n",
      "[[486   1]\n",
      " [ 23   1]]\n"
     ]
    }
   ],
   "source": [
    "from sklearn.neighbors import KNeighborsClassifier\n",
    "X_train, X_test, y_train, y_test = train_test_split(X, y, test_size=0.1)\n",
    "modelknn = KNeighborsClassifier()\n",
    "modelknn.fit(X_train, y_train)\n",
    "\n",
    "# Predict the test set\n",
    "Ypred = modelknn.predict(X_test)\n",
    "\n",
    "print(metrics.accuracy_score(y_test, Ypred))\n",
    "print(metrics.classification_report(y_test, Ypred))\n",
    "print(metrics.confusion_matrix(y_test,Ypred))"
   ]
  },
  {
   "cell_type": "code",
   "execution_count": null,
   "id": "49dc762d",
   "metadata": {},
   "outputs": [],
   "source": [
    "from sklearn.linear_model import LogisticRegression\n",
    "from sklearn.neighbors import KNeighborsClassifier\n",
    "from sklearn.naive_bayes import GaussianNB\n",
    "from sklearn.naive_bayes import BernoulliNB\n",
    "from sklearn.svm import SVC\n",
    "from sklearn.tree import DecisionTreeClassifier\n",
    "from sklearn.ensemble import RandomForestClassifier\n",
    "from xgboost import XGBClassifier"
   ]
  },
  {
   "attachments": {},
   "cell_type": "markdown",
   "id": "a7975dfe",
   "metadata": {},
   "source": [
    "# Deep Learning"
   ]
  },
  {
   "cell_type": "code",
   "execution_count": 81,
   "metadata": {},
   "outputs": [
    {
     "name": "stdout",
     "output_type": "stream",
     "text": [
      "Epoch 1/100\n",
      "128/128 [==============================] - 2s 7ms/step - loss: 23.5242 - val_loss: 2.7185e-04\n",
      "Epoch 2/100\n",
      "128/128 [==============================] - 1s 4ms/step - loss: 11.9566 - val_loss: 1.8571e-04\n",
      "Epoch 3/100\n",
      "128/128 [==============================] - 1s 5ms/step - loss: 9.3093 - val_loss: 0.0063\n",
      "Epoch 4/100\n",
      "128/128 [==============================] - 1s 5ms/step - loss: 9.5551 - val_loss: 4.0216e-04\n",
      "Epoch 5/100\n",
      "128/128 [==============================] - 1s 4ms/step - loss: 10.4974 - val_loss: 0.0017\n",
      "Epoch 6/100\n",
      "128/128 [==============================] - 1s 4ms/step - loss: 7.7244 - val_loss: 0.0019\n",
      "Epoch 7/100\n",
      "128/128 [==============================] - 0s 4ms/step - loss: 8.6876 - val_loss: 24.3446\n",
      "Epoch 8/100\n",
      "128/128 [==============================] - 0s 4ms/step - loss: 8.0459 - val_loss: 9.9987e-04\n",
      "Epoch 9/100\n",
      "128/128 [==============================] - 0s 4ms/step - loss: 7.5553 - val_loss: 0.0111\n",
      "Epoch 10/100\n",
      "128/128 [==============================] - 0s 4ms/step - loss: 10.3592 - val_loss: 0.0111\n",
      "Epoch 11/100\n",
      "128/128 [==============================] - 0s 4ms/step - loss: 6.0905 - val_loss: 0.0028\n",
      "Epoch 12/100\n",
      "128/128 [==============================] - 0s 4ms/step - loss: 7.0688 - val_loss: 0.0039\n",
      "Epoch 13/100\n",
      "128/128 [==============================] - 0s 4ms/step - loss: 8.6187 - val_loss: 0.0087\n",
      "Epoch 14/100\n",
      "128/128 [==============================] - 1s 4ms/step - loss: 6.9759 - val_loss: 1.9406e-04\n",
      "Epoch 15/100\n",
      "128/128 [==============================] - 0s 3ms/step - loss: 9.1805 - val_loss: 1.2480e-04\n",
      "Epoch 16/100\n",
      "128/128 [==============================] - 0s 3ms/step - loss: 6.3232 - val_loss: 7.8826e-05\n",
      "Epoch 17/100\n",
      "128/128 [==============================] - 0s 3ms/step - loss: 6.0966 - val_loss: 0.0020\n",
      "Epoch 18/100\n",
      "128/128 [==============================] - 0s 4ms/step - loss: 5.6770 - val_loss: 8.9615e-04\n",
      "Epoch 19/100\n",
      "128/128 [==============================] - 0s 4ms/step - loss: 4.9494 - val_loss: 0.0044\n",
      "Epoch 20/100\n",
      "128/128 [==============================] - 0s 4ms/step - loss: 6.4818 - val_loss: 10.0697\n",
      "Epoch 21/100\n",
      "128/128 [==============================] - 0s 4ms/step - loss: 6.7637 - val_loss: 0.0038\n",
      "Epoch 22/100\n",
      "128/128 [==============================] - 0s 4ms/step - loss: 4.2810 - val_loss: 8.3231e-04\n",
      "Epoch 23/100\n",
      "128/128 [==============================] - 0s 4ms/step - loss: 4.8471 - val_loss: 2.2968e-04\n",
      "Epoch 24/100\n",
      "128/128 [==============================] - 0s 4ms/step - loss: 6.1910 - val_loss: 0.0101\n",
      "Epoch 25/100\n",
      "128/128 [==============================] - 0s 4ms/step - loss: 3.8188 - val_loss: 7.8400e-04\n",
      "Epoch 26/100\n",
      "128/128 [==============================] - 0s 4ms/step - loss: 4.8821 - val_loss: 5.6773e-04\n",
      "Epoch 27/100\n",
      "128/128 [==============================] - 0s 4ms/step - loss: 5.2694 - val_loss: 0.0962\n",
      "Epoch 28/100\n",
      "128/128 [==============================] - 0s 4ms/step - loss: 4.2306 - val_loss: 0.0056\n",
      "Epoch 29/100\n",
      "128/128 [==============================] - 0s 4ms/step - loss: 4.3423 - val_loss: 0.0276\n",
      "Epoch 30/100\n",
      "128/128 [==============================] - 0s 4ms/step - loss: 5.2002 - val_loss: 3.2050e-04\n",
      "Epoch 31/100\n",
      "128/128 [==============================] - 0s 4ms/step - loss: 4.9435 - val_loss: 0.0068\n",
      "Epoch 32/100\n",
      "128/128 [==============================] - 0s 4ms/step - loss: 6.6665 - val_loss: 0.0011\n",
      "Epoch 33/100\n",
      "128/128 [==============================] - 0s 4ms/step - loss: 6.1893 - val_loss: 3.1640e-04\n",
      "Epoch 34/100\n",
      "128/128 [==============================] - 0s 4ms/step - loss: 4.2848 - val_loss: 0.0021\n",
      "Epoch 35/100\n",
      "128/128 [==============================] - 0s 4ms/step - loss: 3.3357 - val_loss: 0.0016\n",
      "Epoch 36/100\n",
      "128/128 [==============================] - 1s 4ms/step - loss: 4.1586 - val_loss: 0.0014\n",
      "Epoch 37/100\n",
      "128/128 [==============================] - 0s 4ms/step - loss: 4.6143 - val_loss: 0.0043\n",
      "Epoch 38/100\n",
      "128/128 [==============================] - 0s 4ms/step - loss: 5.5445 - val_loss: 0.0018\n",
      "Epoch 39/100\n",
      "128/128 [==============================] - 0s 4ms/step - loss: 3.7210 - val_loss: 15.4533\n",
      "Epoch 40/100\n",
      "128/128 [==============================] - 0s 4ms/step - loss: 4.0573 - val_loss: 9.9863\n",
      "Epoch 41/100\n",
      "128/128 [==============================] - 0s 3ms/step - loss: 3.9538 - val_loss: 0.0079\n",
      "Epoch 42/100\n",
      "128/128 [==============================] - 0s 3ms/step - loss: 3.2735 - val_loss: 0.0030\n",
      "Epoch 43/100\n",
      "128/128 [==============================] - 0s 4ms/step - loss: 4.2031 - val_loss: 0.0076\n",
      "Epoch 44/100\n",
      "128/128 [==============================] - 0s 4ms/step - loss: 3.7214 - val_loss: 0.1311\n",
      "Epoch 45/100\n",
      "128/128 [==============================] - 0s 4ms/step - loss: 4.0274 - val_loss: 0.0076\n",
      "Epoch 46/100\n",
      "128/128 [==============================] - 0s 4ms/step - loss: 4.5050 - val_loss: 0.0814\n",
      "Epoch 47/100\n",
      "128/128 [==============================] - 0s 4ms/step - loss: 3.7379 - val_loss: 0.0285\n",
      "Epoch 48/100\n",
      "128/128 [==============================] - 1s 4ms/step - loss: 3.5870 - val_loss: 0.0023\n",
      "Epoch 49/100\n",
      "128/128 [==============================] - 1s 4ms/step - loss: 2.9462 - val_loss: 0.0260\n",
      "Epoch 50/100\n",
      "128/128 [==============================] - 1s 6ms/step - loss: 3.1342 - val_loss: 0.0092\n",
      "Epoch 51/100\n",
      "128/128 [==============================] - 1s 5ms/step - loss: 3.7841 - val_loss: 0.0053\n",
      "Epoch 52/100\n",
      "128/128 [==============================] - 0s 4ms/step - loss: 2.4065 - val_loss: 0.0054\n",
      "Epoch 53/100\n",
      "128/128 [==============================] - 0s 3ms/step - loss: 2.5216 - val_loss: 0.1213\n",
      "Epoch 54/100\n",
      "128/128 [==============================] - 1s 4ms/step - loss: 2.8231 - val_loss: 0.0027\n",
      "Epoch 55/100\n",
      "128/128 [==============================] - 1s 4ms/step - loss: 2.3339 - val_loss: 0.0100\n",
      "Epoch 56/100\n",
      "128/128 [==============================] - 1s 4ms/step - loss: 3.2969 - val_loss: 0.0141\n",
      "Epoch 57/100\n",
      "128/128 [==============================] - 1s 4ms/step - loss: 3.1418 - val_loss: 0.0215\n",
      "Epoch 58/100\n",
      "128/128 [==============================] - 1s 4ms/step - loss: 2.8831 - val_loss: 0.0233\n",
      "Epoch 59/100\n",
      "128/128 [==============================] - 1s 4ms/step - loss: 3.8674 - val_loss: 0.0194\n",
      "Epoch 60/100\n",
      "128/128 [==============================] - 1s 4ms/step - loss: 3.5243 - val_loss: 0.2370\n",
      "Epoch 61/100\n",
      "128/128 [==============================] - 1s 4ms/step - loss: 2.8341 - val_loss: 0.0075\n",
      "Epoch 62/100\n",
      "128/128 [==============================] - 1s 4ms/step - loss: 2.2447 - val_loss: 0.0130\n",
      "Epoch 63/100\n",
      "128/128 [==============================] - 1s 4ms/step - loss: 2.1992 - val_loss: 0.1366\n",
      "Epoch 64/100\n",
      "128/128 [==============================] - 1s 4ms/step - loss: 2.9873 - val_loss: 9.7977e-04\n",
      "Epoch 65/100\n",
      "128/128 [==============================] - 0s 4ms/step - loss: 2.8502 - val_loss: 0.0114\n",
      "Epoch 66/100\n",
      "128/128 [==============================] - 1s 4ms/step - loss: 1.5808 - val_loss: 0.0010\n",
      "Epoch 67/100\n",
      "128/128 [==============================] - 1s 4ms/step - loss: 2.3055 - val_loss: 0.0077\n",
      "Epoch 68/100\n",
      "128/128 [==============================] - 1s 4ms/step - loss: 1.9756 - val_loss: 2.8263\n",
      "Epoch 69/100\n",
      "128/128 [==============================] - 1s 4ms/step - loss: 2.9349 - val_loss: 0.9585\n",
      "Epoch 70/100\n",
      "128/128 [==============================] - 1s 4ms/step - loss: 1.5081 - val_loss: 0.0177\n",
      "Epoch 71/100\n",
      "128/128 [==============================] - 1s 4ms/step - loss: 2.1294 - val_loss: 0.0278\n",
      "Epoch 72/100\n",
      "128/128 [==============================] - 1s 4ms/step - loss: 2.4871 - val_loss: 0.0049\n",
      "Epoch 73/100\n",
      "128/128 [==============================] - 1s 4ms/step - loss: 2.4734 - val_loss: 0.0067\n",
      "Epoch 74/100\n",
      "128/128 [==============================] - 0s 4ms/step - loss: 1.4807 - val_loss: 0.0280\n",
      "Epoch 75/100\n",
      "128/128 [==============================] - 0s 4ms/step - loss: 1.2978 - val_loss: 0.0062\n",
      "Epoch 76/100\n",
      "128/128 [==============================] - 1s 4ms/step - loss: 2.8589 - val_loss: 0.0291\n",
      "Epoch 77/100\n",
      "128/128 [==============================] - 1s 4ms/step - loss: 1.7641 - val_loss: 0.0020\n",
      "Epoch 78/100\n",
      "128/128 [==============================] - 1s 4ms/step - loss: 1.9877 - val_loss: 0.0099\n",
      "Epoch 79/100\n",
      "128/128 [==============================] - 0s 4ms/step - loss: 2.8628 - val_loss: 0.1431\n",
      "Epoch 80/100\n",
      "128/128 [==============================] - 1s 4ms/step - loss: 0.9478 - val_loss: 0.0456\n",
      "Epoch 81/100\n",
      "128/128 [==============================] - 1s 4ms/step - loss: 1.4053 - val_loss: 0.0198\n",
      "Epoch 82/100\n",
      "128/128 [==============================] - 1s 4ms/step - loss: 1.2090 - val_loss: 0.1545\n",
      "Epoch 83/100\n",
      "128/128 [==============================] - 1s 4ms/step - loss: 1.3800 - val_loss: 0.0025\n",
      "Epoch 84/100\n",
      "128/128 [==============================] - 1s 4ms/step - loss: 1.0730 - val_loss: 0.0624\n",
      "Epoch 85/100\n",
      "128/128 [==============================] - 1s 4ms/step - loss: 1.1128 - val_loss: 0.1111\n",
      "Epoch 86/100\n",
      "128/128 [==============================] - 0s 4ms/step - loss: 0.5646 - val_loss: 0.1298\n",
      "Epoch 87/100\n",
      "128/128 [==============================] - 1s 4ms/step - loss: 0.8887 - val_loss: 1.2096\n",
      "Epoch 88/100\n",
      "128/128 [==============================] - 1s 4ms/step - loss: 1.2412 - val_loss: 0.0077\n",
      "Epoch 89/100\n",
      "128/128 [==============================] - 1s 4ms/step - loss: 2.1283 - val_loss: 0.0632\n",
      "Epoch 90/100\n",
      "128/128 [==============================] - 1s 4ms/step - loss: 1.0764 - val_loss: 0.0027\n",
      "Epoch 91/100\n",
      "128/128 [==============================] - 1s 4ms/step - loss: 1.2112 - val_loss: 0.0197\n",
      "Epoch 92/100\n",
      "128/128 [==============================] - 1s 4ms/step - loss: 1.4063 - val_loss: 0.0064\n",
      "Epoch 93/100\n",
      "128/128 [==============================] - 1s 4ms/step - loss: 1.2391 - val_loss: 0.1729\n",
      "Epoch 94/100\n",
      "128/128 [==============================] - 0s 4ms/step - loss: 0.9281 - val_loss: 0.0662\n",
      "Epoch 95/100\n",
      "128/128 [==============================] - 0s 2ms/step - loss: 0.7823 - val_loss: 0.0061\n",
      "Epoch 96/100\n",
      "128/128 [==============================] - 0s 2ms/step - loss: 0.5788 - val_loss: 0.0120\n",
      "Epoch 97/100\n",
      "128/128 [==============================] - 0s 2ms/step - loss: 1.1830 - val_loss: 0.0093\n",
      "Epoch 98/100\n",
      "128/128 [==============================] - 0s 2ms/step - loss: 0.8146 - val_loss: 0.0019\n",
      "Epoch 99/100\n",
      "128/128 [==============================] - 0s 2ms/step - loss: 1.1994 - val_loss: 0.0050\n",
      "Epoch 100/100\n",
      "128/128 [==============================] - 0s 2ms/step - loss: 1.0506 - val_loss: 0.0289\n"
     ]
    },
    {
     "data": {
      "text/plain": [
       "<keras.callbacks.History at 0x1f91ea16190>"
      ]
     },
     "execution_count": 81,
     "metadata": {},
     "output_type": "execute_result"
    }
   ],
   "source": [
    "# Now we will do Randomized Search to find the best parameters for the model\n",
    "import tensorflow as tf\n",
    "from tensorflow import keras\n",
    "from tensorflow.keras import layers\n",
    "from tensorflow.keras.layers.experimental import preprocessing\n",
    "from tensorflow.keras import regularizers\n",
    "from tensorflow.keras import optimizers\n",
    "\n",
    "X_train, X_test, y_train, y_test = train_test_split(X, y, test_size=0.5)\n",
    "\n",
    "model = keras.Sequential([\n",
    "    layers.Dense(13, activation='relu', input_shape=[len(X_train.keys())]),\n",
    "    layers.Dense(26, activation='relu'),\n",
    "    layers.Dense(13, activation='relu'),\n",
    "    # layers.Dense(4, activation='relu'),\n",
    "    # layers.Dense(3, activation='relu'),\n",
    "    # layers.Dense(2, activation='relu'),\n",
    "    layers.Dense(1, activation='sigmoid'),\n",
    "])\n",
    "\n",
    "# Compile the model with SGD with learning rate 0.01\n",
    "model.compile(optimizer='adam', loss='binary_crossentropy')\n",
    " \n",
    " \n",
    "# define the early stopping callback\n",
    "# from keras.callbacks import EarlyStopping\n",
    "# es = EarlyStopping(monitor='val_loss', mode='min', verbose=1, patience=200)\n",
    "  \n",
    "# # argmax returns the index of the maximum value in the array\n",
    "model.fit(X, y, epochs=100, verbose=1, validation_split=0.2, callbacks=[es])\n",
    " \n"
   ]
  },
  {
   "cell_type": "code",
   "execution_count": 108,
   "metadata": {},
   "outputs": [
    {
     "name": "stdout",
     "output_type": "stream",
     "text": [
      "80/80 [==============================] - 0s 3ms/step\n",
      "[[7.2950628e-05]\n",
      " [8.0765576e-06]\n",
      " [2.8680381e-03]\n",
      " ...\n",
      " [1.6032315e-06]\n",
      " [6.5267584e-03]\n",
      " [2.8230337e-04]]\n",
      "0.4258481\n",
      "0.03154805\n"
     ]
    }
   ],
   "source": [
    "#  Now predict the test set\n",
    "y_pred = model.predict(X_test)\n",
    "print(y_pred)\n",
    "print(y_pred.max())\n",
    "print(y_pred.mean())"
   ]
  },
  {
   "cell_type": "code",
   "execution_count": 106,
   "id": "8b139971",
   "metadata": {},
   "outputs": [
    {
     "name": "stdout",
     "output_type": "stream",
     "text": [
      "287\n"
     ]
    }
   ],
   "source": [
    "lst=[]\n",
    "for i in y_pred:\n",
    "    if i>0.1:\n",
    "        lst.append(1)\n",
    "    else:\n",
    "        lst.append(0)\n",
    "print(lst.count(1))"
   ]
  },
  {
   "cell_type": "code",
   "execution_count": 107,
   "id": "811d5c92",
   "metadata": {},
   "outputs": [
    {
     "name": "stdout",
     "output_type": "stream",
     "text": [
      "0.8614481409001957\n",
      "              precision    recall  f1-score   support\n",
      "\n",
      "           0       0.96      0.90      0.92      2418\n",
      "           1       0.12      0.26      0.17       137\n",
      "\n",
      "    accuracy                           0.86      2555\n",
      "   macro avg       0.54      0.58      0.54      2555\n",
      "weighted avg       0.91      0.86      0.88      2555\n",
      "\n",
      "[[2166  252]\n",
      " [ 102   35]]\n"
     ]
    }
   ],
   "source": [
    "print(metrics.accuracy_score(y_test, lst))\n",
    "print(metrics.classification_report(y_test,lst))\n",
    "print(metrics.confusion_matrix(y_test,lst))"
   ]
  },
  {
   "cell_type": "code",
   "execution_count": null,
   "metadata": {},
   "outputs": [],
   "source": []
  },
  {
   "attachments": {},
   "cell_type": "markdown",
   "id": "662f930f",
   "metadata": {},
   "source": [
    "# Approach-2: Anomaly Detection"
   ]
  },
  {
   "cell_type": "code",
   "execution_count": null,
   "id": "ea44234e",
   "metadata": {},
   "outputs": [],
   "source": [
    "y = X['stroke']\n",
    "X = X.drop('stroke', axis=1)\n",
    "print(X.shape,y.shape)"
   ]
  },
  {
   "cell_type": "code",
   "execution_count": null,
   "id": "161a2351",
   "metadata": {},
   "outputs": [],
   "source": [
    "X1 = X[X['stroke']<1]\n",
    "y1=np.zeros(len(X1))"
   ]
  },
  {
   "cell_type": "code",
   "execution_count": null,
   "id": "44a91c11",
   "metadata": {},
   "outputs": [],
   "source": [
    "X2 = X[X['stroke']>0]\n",
    "y2=np.ones(len(X1))"
   ]
  },
  {
   "cell_type": "code",
   "execution_count": null,
   "id": "e66a8dde",
   "metadata": {},
   "outputs": [],
   "source": [
    "from sklearn.model_selection import train_test_split\n",
    "from sklearn.linear_model import LogisticRegression\n",
    "from sklearn import metrics"
   ]
  },
  {
   "cell_type": "code",
   "execution_count": null,
   "id": "65506162",
   "metadata": {},
   "outputs": [
    {
     "name": "stdout",
     "output_type": "stream",
     "text": [
      "[0. 0. 0. ... 0. 0. 0.]\n"
     ]
    }
   ],
   "source": [
    "Xtrain = X1.sample(n=2916)\n",
    "ytrain = np.zeros(2916)"
   ]
  },
  {
   "cell_type": "code",
   "execution_count": null,
   "id": "fe51a81c",
   "metadata": {},
   "outputs": [
    {
     "name": "stdout",
     "output_type": "stream",
     "text": [
      "[0. 0. 0. ... 1. 1. 1.]\n"
     ]
    }
   ],
   "source": [
    "X_CV = X1.sample(992)+X2.sample(125)\n",
    "y_CV = np.concatenate((np.zeros(992),np.ones(125)),axis=0)\n",
    "print(y_CV)"
   ]
  },
  {
   "cell_type": "code",
   "execution_count": null,
   "id": "58c4aab6",
   "metadata": {},
   "outputs": [],
   "source": [
    "Xtest = X1.sample(992)+X2.sample(125)\n",
    "ytest = np.concatenate((np.zeros(992),np.ones(125)),axis=0)"
   ]
  },
  {
   "cell_type": "code",
   "execution_count": null,
   "id": "30dbdb4f",
   "metadata": {},
   "outputs": [],
   "source": []
  },
  {
   "attachments": {},
   "cell_type": "markdown",
   "id": "61d90fa9",
   "metadata": {},
   "source": [
    "# Approach-3: Stratified K - Fold Cross Validation"
   ]
  },
  {
   "cell_type": "code",
   "execution_count": null,
   "id": "a2fc5251",
   "metadata": {},
   "outputs": [],
   "source": [
    "from statistics import mean, stdev\n",
    "from sklearn import preprocessing\n",
    "from sklearn.model_selection import StratifiedKFold\n",
    "from sklearn import linear_model\n",
    "from sklearn import metrics\n",
    "\n",
    "# Feature Scaling for input features.\n",
    "scaler = preprocessing.MinMaxScaler()\n",
    "x_scaled = scaler.fit_transform(X)\n",
    "\n",
    "# Create classifier object.\n",
    "lr = linear_model.LogisticRegression()\n",
    "\n",
    "# Create StratifiedKFold object.\n",
    "skf = StratifiedKFold(n_splits=10, shuffle=True, random_state=1)\n",
    "lst_accu_stratified = []\n",
    "\n",
    "for train_index, test_index in skf.split(X, y):\n",
    "\tx_train_fold, x_test_fold = x_scaled[train_index], x_scaled[test_index]\n",
    "\ty_train_fold, y_test_fold = y[train_index], y[test_index]\n",
    "\tlr.fit(x_train_fold, y_train_fold)\n",
    "\ty_pred = lr.predict(x_test_fold)\n",
    "\tlst_accu_stratified.append(lr.score(x_test_fold, y_test_fold))\n",
    "\tprint(metrics.confusion_matrix(y_test_fold,y_pred))\n",
    "\tprint(\"\\n\\n\")\n",
    "\n",
    "# Print the output.\n",
    "print('List of possible accuracy:', lst_accu_stratified)\n",
    "print('\\nMaximum Accuracy That can be obtained from this model is:',\n",
    "\tmax(lst_accu_stratified)*100, '%')\n",
    "print('\\nMinimum Accuracy:',\n",
    "\tmin(lst_accu_stratified)*100, '%')\n",
    "print('\\nOverall Accuracy:',\n",
    "\tmean(lst_accu_stratified)*100, '%')\n",
    "print('\\nStandard Deviation is:', stdev(lst_accu_stratified))\n"
   ]
  },
  {
   "cell_type": "code",
   "execution_count": null,
   "id": "455478ba",
   "metadata": {},
   "outputs": [],
   "source": []
  },
  {
   "attachments": {},
   "cell_type": "markdown",
   "id": "4728b2dc",
   "metadata": {},
   "source": [
    "# Removing Null Values"
   ]
  },
  {
   "cell_type": "code",
   "execution_count": null,
   "id": "c1216da4",
   "metadata": {},
   "outputs": [
    {
     "data": {
      "text/plain": [
       "<bound method DataFrame.info of          id  gender   age  hypertension  heart_disease  ever_married  \\\n",
       "0      9046       1  67.0             0              1             1   \n",
       "1     51676       0  61.0             0              0             1   \n",
       "2     31112       1  80.0             0              1             1   \n",
       "3     60182       0  49.0             0              0             1   \n",
       "4      1665       0  79.0             1              0             1   \n",
       "...     ...     ...   ...           ...            ...           ...   \n",
       "5105  18234       0  80.0             1              0             1   \n",
       "5106  44873       0  81.0             0              0             1   \n",
       "5107  19723       0  35.0             0              0             1   \n",
       "5108  37544       1  51.0             0              0             1   \n",
       "5109  44679       0  44.0             0              0             1   \n",
       "\n",
       "      work_type  Residence_type  avg_glucose_level   bmi  smoking_status  \n",
       "0             2               1             228.69  36.6               1  \n",
       "1             3               0             202.21   NaN               2  \n",
       "2             2               0             105.92  32.5               2  \n",
       "3             2               1             171.23  34.4               3  \n",
       "4             3               0             174.12  24.0               2  \n",
       "...         ...             ...                ...   ...             ...  \n",
       "5105          2               1              83.75   NaN               2  \n",
       "5106          3               1             125.20  40.0               2  \n",
       "5107          3               0              82.99  30.6               2  \n",
       "5108          2               0             166.29  25.6               1  \n",
       "5109          0               1              85.28  26.2               0  \n",
       "\n",
       "[5110 rows x 11 columns]>"
      ]
     },
     "execution_count": 5,
     "metadata": {},
     "output_type": "execute_result"
    }
   ],
   "source": [
    "from sklearn.preprocessing import LabelEncoder\n",
    "l = LabelEncoder()\n",
    "X['gender'] = l.fit_transform(X['gender'])\n",
    "X['ever_married'] = l.fit_transform(X['ever_married'])\n",
    "X['work_type'] = l.fit_transform(X['work_type'])\n",
    "X['Residence_type'] = l.fit_transform(X['Residence_type'])\n",
    "X['smoking_status'] = l.fit_transform(X['smoking_status'])\n",
    "X.info"
   ]
  },
  {
   "cell_type": "code",
   "execution_count": null,
   "id": "3645740e",
   "metadata": {},
   "outputs": [
    {
     "data": {
      "text/html": [
       "<div>\n",
       "<style scoped>\n",
       "    .dataframe tbody tr th:only-of-type {\n",
       "        vertical-align: middle;\n",
       "    }\n",
       "\n",
       "    .dataframe tbody tr th {\n",
       "        vertical-align: top;\n",
       "    }\n",
       "\n",
       "    .dataframe thead th {\n",
       "        text-align: right;\n",
       "    }\n",
       "</style>\n",
       "<table border=\"1\" class=\"dataframe\">\n",
       "  <thead>\n",
       "    <tr style=\"text-align: right;\">\n",
       "      <th></th>\n",
       "      <th>id</th>\n",
       "      <th>gender</th>\n",
       "      <th>age</th>\n",
       "      <th>hypertension</th>\n",
       "      <th>heart_disease</th>\n",
       "      <th>ever_married</th>\n",
       "      <th>work_type</th>\n",
       "      <th>Residence_type</th>\n",
       "      <th>avg_glucose_level</th>\n",
       "      <th>bmi</th>\n",
       "      <th>smoking_status</th>\n",
       "    </tr>\n",
       "  </thead>\n",
       "  <tbody>\n",
       "    <tr>\n",
       "      <th>1</th>\n",
       "      <td>51676</td>\n",
       "      <td>0</td>\n",
       "      <td>61.0</td>\n",
       "      <td>0</td>\n",
       "      <td>0</td>\n",
       "      <td>1</td>\n",
       "      <td>3</td>\n",
       "      <td>0</td>\n",
       "      <td>202.21</td>\n",
       "      <td>NaN</td>\n",
       "      <td>2</td>\n",
       "    </tr>\n",
       "    <tr>\n",
       "      <th>8</th>\n",
       "      <td>27419</td>\n",
       "      <td>0</td>\n",
       "      <td>59.0</td>\n",
       "      <td>0</td>\n",
       "      <td>0</td>\n",
       "      <td>1</td>\n",
       "      <td>2</td>\n",
       "      <td>0</td>\n",
       "      <td>76.15</td>\n",
       "      <td>NaN</td>\n",
       "      <td>0</td>\n",
       "    </tr>\n",
       "    <tr>\n",
       "      <th>13</th>\n",
       "      <td>8213</td>\n",
       "      <td>1</td>\n",
       "      <td>78.0</td>\n",
       "      <td>0</td>\n",
       "      <td>1</td>\n",
       "      <td>1</td>\n",
       "      <td>2</td>\n",
       "      <td>1</td>\n",
       "      <td>219.84</td>\n",
       "      <td>NaN</td>\n",
       "      <td>0</td>\n",
       "    </tr>\n",
       "    <tr>\n",
       "      <th>19</th>\n",
       "      <td>25226</td>\n",
       "      <td>1</td>\n",
       "      <td>57.0</td>\n",
       "      <td>0</td>\n",
       "      <td>1</td>\n",
       "      <td>0</td>\n",
       "      <td>0</td>\n",
       "      <td>1</td>\n",
       "      <td>217.08</td>\n",
       "      <td>NaN</td>\n",
       "      <td>0</td>\n",
       "    </tr>\n",
       "    <tr>\n",
       "      <th>27</th>\n",
       "      <td>61843</td>\n",
       "      <td>1</td>\n",
       "      <td>58.0</td>\n",
       "      <td>0</td>\n",
       "      <td>0</td>\n",
       "      <td>1</td>\n",
       "      <td>2</td>\n",
       "      <td>0</td>\n",
       "      <td>189.84</td>\n",
       "      <td>NaN</td>\n",
       "      <td>0</td>\n",
       "    </tr>\n",
       "    <tr>\n",
       "      <th>...</th>\n",
       "      <td>...</td>\n",
       "      <td>...</td>\n",
       "      <td>...</td>\n",
       "      <td>...</td>\n",
       "      <td>...</td>\n",
       "      <td>...</td>\n",
       "      <td>...</td>\n",
       "      <td>...</td>\n",
       "      <td>...</td>\n",
       "      <td>...</td>\n",
       "      <td>...</td>\n",
       "    </tr>\n",
       "    <tr>\n",
       "      <th>5039</th>\n",
       "      <td>42007</td>\n",
       "      <td>1</td>\n",
       "      <td>41.0</td>\n",
       "      <td>0</td>\n",
       "      <td>0</td>\n",
       "      <td>0</td>\n",
       "      <td>2</td>\n",
       "      <td>0</td>\n",
       "      <td>70.15</td>\n",
       "      <td>NaN</td>\n",
       "      <td>1</td>\n",
       "    </tr>\n",
       "    <tr>\n",
       "      <th>5048</th>\n",
       "      <td>28788</td>\n",
       "      <td>1</td>\n",
       "      <td>40.0</td>\n",
       "      <td>0</td>\n",
       "      <td>0</td>\n",
       "      <td>1</td>\n",
       "      <td>2</td>\n",
       "      <td>1</td>\n",
       "      <td>191.15</td>\n",
       "      <td>NaN</td>\n",
       "      <td>3</td>\n",
       "    </tr>\n",
       "    <tr>\n",
       "      <th>5093</th>\n",
       "      <td>32235</td>\n",
       "      <td>0</td>\n",
       "      <td>45.0</td>\n",
       "      <td>1</td>\n",
       "      <td>0</td>\n",
       "      <td>1</td>\n",
       "      <td>0</td>\n",
       "      <td>0</td>\n",
       "      <td>95.02</td>\n",
       "      <td>NaN</td>\n",
       "      <td>3</td>\n",
       "    </tr>\n",
       "    <tr>\n",
       "      <th>5099</th>\n",
       "      <td>7293</td>\n",
       "      <td>1</td>\n",
       "      <td>40.0</td>\n",
       "      <td>0</td>\n",
       "      <td>0</td>\n",
       "      <td>1</td>\n",
       "      <td>2</td>\n",
       "      <td>0</td>\n",
       "      <td>83.94</td>\n",
       "      <td>NaN</td>\n",
       "      <td>3</td>\n",
       "    </tr>\n",
       "    <tr>\n",
       "      <th>5105</th>\n",
       "      <td>18234</td>\n",
       "      <td>0</td>\n",
       "      <td>80.0</td>\n",
       "      <td>1</td>\n",
       "      <td>0</td>\n",
       "      <td>1</td>\n",
       "      <td>2</td>\n",
       "      <td>1</td>\n",
       "      <td>83.75</td>\n",
       "      <td>NaN</td>\n",
       "      <td>2</td>\n",
       "    </tr>\n",
       "  </tbody>\n",
       "</table>\n",
       "<p>201 rows × 11 columns</p>\n",
       "</div>"
      ],
      "text/plain": [
       "         id  gender   age  hypertension  heart_disease  ever_married  \\\n",
       "1     51676       0  61.0             0              0             1   \n",
       "8     27419       0  59.0             0              0             1   \n",
       "13     8213       1  78.0             0              1             1   \n",
       "19    25226       1  57.0             0              1             0   \n",
       "27    61843       1  58.0             0              0             1   \n",
       "...     ...     ...   ...           ...            ...           ...   \n",
       "5039  42007       1  41.0             0              0             0   \n",
       "5048  28788       1  40.0             0              0             1   \n",
       "5093  32235       0  45.0             1              0             1   \n",
       "5099   7293       1  40.0             0              0             1   \n",
       "5105  18234       0  80.0             1              0             1   \n",
       "\n",
       "      work_type  Residence_type  avg_glucose_level  bmi  smoking_status  \n",
       "1             3               0             202.21  NaN               2  \n",
       "8             2               0              76.15  NaN               0  \n",
       "13            2               1             219.84  NaN               0  \n",
       "19            0               1             217.08  NaN               0  \n",
       "27            2               0             189.84  NaN               0  \n",
       "...         ...             ...                ...  ...             ...  \n",
       "5039          2               0              70.15  NaN               1  \n",
       "5048          2               1             191.15  NaN               3  \n",
       "5093          0               0              95.02  NaN               3  \n",
       "5099          2               0              83.94  NaN               3  \n",
       "5105          2               1              83.75  NaN               2  \n",
       "\n",
       "[201 rows x 11 columns]"
      ]
     },
     "execution_count": 6,
     "metadata": {},
     "output_type": "execute_result"
    }
   ],
   "source": [
    "X.iloc[X[(X.isnull().sum(axis=1) >=1)].index]"
   ]
  },
  {
   "cell_type": "code",
   "execution_count": null,
   "id": "92f13b10",
   "metadata": {},
   "outputs": [],
   "source": [
    "df1=X.iloc[X[(X.isnull().sum(axis=1) < 1)].index]\n",
    "Y=y.iloc[X[(X.isnull().sum(axis=1) < 1)].index]"
   ]
  },
  {
   "cell_type": "code",
   "execution_count": null,
   "id": "02cd8cb6",
   "metadata": {},
   "outputs": [],
   "source": [
    "from sklearn.model_selection import train_test_split\n",
    "from sklearn.linear_model import LogisticRegression\n",
    "from sklearn import metrics"
   ]
  },
  {
   "cell_type": "code",
   "execution_count": null,
   "id": "75e5aa2a",
   "metadata": {},
   "outputs": [
    {
     "name": "stdout",
     "output_type": "stream",
     "text": [
      "0.9572301425661914\n",
      "              precision    recall  f1-score   support\n",
      "\n",
      "           0       0.96      1.00      0.98       942\n",
      "           1       0.25      0.03      0.05        40\n",
      "\n",
      "    accuracy                           0.96       982\n",
      "   macro avg       0.61      0.51      0.51       982\n",
      "weighted avg       0.93      0.96      0.94       982\n",
      "\n"
     ]
    }
   ],
   "source": [
    "X_train, X_test, y_train, y_test = train_test_split(df1,Y, test_size=0.2)\n",
    "model = LogisticRegression()\n",
    "model.fit(X_train, y_train)\n",
    "y_pred = model.predict(X_test)\n",
    "\n",
    "print(metrics.accuracy_score(y_test, y_pred))\n",
    "print(metrics.classification_report(y_test, y_pred))"
   ]
  },
  {
   "cell_type": "code",
   "execution_count": null,
   "id": "ef3944fb",
   "metadata": {},
   "outputs": [],
   "source": [
    "from sklearn.linear_model import Perceptron, SGDClassifier, PassiveAggressiveClassifier\n",
    "from sklearn.metrics import accuracy_score\n",
    "# Use LazyPredictor to find the best model\n",
    "from lazypredict.Supervised import LazyClassifier\n",
    "X_train, X_test, y_train, y_test = train_test_split(df1, Y, test_size=0.2)\n",
    "\n",
    "clf = LazyClassifier(verbose=0, ignore_warnings=True, custom_metric=None)\n",
    "models, predictions = clf.fit(X_train, X_test, y_train, y_test)\n",
    "models"
   ]
  },
  {
   "cell_type": "code",
   "execution_count": null,
   "id": "c4e12849",
   "metadata": {},
   "outputs": [],
   "source": []
  }
 ],
 "metadata": {
  "kernelspec": {
   "display_name": "base",
   "language": "python",
   "name": "python3"
  },
  "language_info": {
   "codemirror_mode": {
    "name": "ipython",
    "version": 3
   },
   "file_extension": ".py",
   "mimetype": "text/x-python",
   "name": "python",
   "nbconvert_exporter": "python",
   "pygments_lexer": "ipython3",
   "version": "3.9.7"
  },
  "vscode": {
   "interpreter": {
    "hash": "3a7a96524dc0ddf702064c8deff5d1c2af9205cacb356e9d2ba2e35355d21ddf"
   }
  }
 },
 "nbformat": 4,
 "nbformat_minor": 5
}
